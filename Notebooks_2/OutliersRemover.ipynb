{
 "cells": [
  {
   "cell_type": "markdown",
   "metadata": {},
   "source": [
    "# Imports"
   ]
  },
  {
   "cell_type": "code",
   "execution_count": 15,
   "metadata": {
    "_cell_guid": "b1076dfc-b9ad-4769-8c92-a6c4dae69d19",
    "_uuid": "8f2839f25d086af736a60e9eeb907d3b93b6e0e5",
    "execution": {
     "iopub.execute_input": "2024-12-10T22:19:34.739475Z",
     "iopub.status.busy": "2024-12-10T22:19:34.739076Z",
     "iopub.status.idle": "2024-12-10T22:19:34.745026Z",
     "shell.execute_reply": "2024-12-10T22:19:34.743657Z",
     "shell.execute_reply.started": "2024-12-10T22:19:34.739436Z"
    },
    "trusted": true
   },
   "outputs": [],
   "source": [
    "import numpy as np \n",
    "import matplotlib.pyplot as plt"
   ]
  },
  {
   "cell_type": "markdown",
   "metadata": {},
   "source": [
    "# Auxiliary Functions"
   ]
  },
  {
   "cell_type": "code",
   "execution_count": 16,
   "metadata": {
    "execution": {
     "iopub.execute_input": "2024-12-10T22:19:34.747951Z",
     "iopub.status.busy": "2024-12-10T22:19:34.747364Z",
     "iopub.status.idle": "2024-12-10T22:19:34.761646Z",
     "shell.execute_reply": "2024-12-10T22:19:34.760306Z",
     "shell.execute_reply.started": "2024-12-10T22:19:34.747888Z"
    },
    "trusted": true
   },
   "outputs": [],
   "source": [
    "def display_images(images_array):\n",
    "    \"\"\"\n",
    "    Displays images contained in a numpy array with shape (N, H, W, C) or (N, H, W).\n",
    "\n",
    "    Parameters:\n",
    "    - images_array (numpy.ndarray): An array containing the images. \n",
    "      Must have shape (N, H, W, C) for RGB images or (N, H, W) for grayscale images.\n",
    "\n",
    "    Note:\n",
    "    - The number of images, N, must be < 1000.\n",
    "    \"\"\"\n",
    "    num_images = images_array.shape[0]\n",
    "\n",
    "    # Determine the number of rows and columns for the grid\n",
    "    cols = min(10, num_images)  # Maximum of 10 images per row\n",
    "    rows = (num_images + cols - 1) // cols  # Calculate the required number of rows\n",
    "\n",
    "    # Set up the figure\n",
    "    fig, axes = plt.subplots(rows, cols, figsize=(cols * 2, rows * 2))\n",
    "    axes = axes.flatten()  # Flatten the axes array for easier iteration\n",
    "\n",
    "    for i in range(rows * cols):\n",
    "        if i < num_images:\n",
    "            image = images_array[i]\n",
    "            if len(image.shape) == 2:  # Grayscale image\n",
    "                axes[i].imshow(image, cmap=\"gray\")\n",
    "            else:  # RGB image\n",
    "                axes[i].imshow(image)\n",
    "            axes[i].axis(\"off\")\n",
    "        else:\n",
    "            axes[i].axis(\"off\")  # Hide axes for empty cells\n",
    "\n",
    "    plt.tight_layout()\n",
    "    plt.show()"
   ]
  },
  {
   "cell_type": "markdown",
   "metadata": {},
   "source": [
    "# Load Dataset"
   ]
  },
  {
   "cell_type": "code",
   "execution_count": 17,
   "metadata": {
    "execution": {
     "iopub.execute_input": "2024-12-10T22:19:34.763656Z",
     "iopub.status.busy": "2024-12-10T22:19:34.763231Z",
     "iopub.status.idle": "2024-12-10T22:19:34.790652Z",
     "shell.execute_reply": "2024-12-10T22:19:34.789420Z",
     "shell.execute_reply.started": "2024-12-10T22:19:34.763608Z"
    },
    "trusted": true
   },
   "outputs": [],
   "source": [
    "data = np.load('/kaggle/input/datasetoriginale/mars_for_students.npz')"
   ]
  },
  {
   "cell_type": "code",
   "execution_count": 18,
   "metadata": {
    "execution": {
     "iopub.execute_input": "2024-12-10T22:19:34.793616Z",
     "iopub.status.busy": "2024-12-10T22:19:34.793148Z",
     "iopub.status.idle": "2024-12-10T22:19:34.800993Z",
     "shell.execute_reply": "2024-12-10T22:19:34.799632Z",
     "shell.execute_reply.started": "2024-12-10T22:19:34.793568Z"
    },
    "trusted": true
   },
   "outputs": [
    {
     "name": "stdout",
     "output_type": "stream",
     "text": [
      "<bound method Mapping.keys of NpzFile '/kaggle/input/datasetoriginale/mars_for_students.npz' with keys: training_set, test_set>\n"
     ]
    }
   ],
   "source": [
    "#show how dataset keys are named\n",
    "print(data.keys)"
   ]
  },
  {
   "cell_type": "code",
   "execution_count": 19,
   "metadata": {
    "execution": {
     "iopub.execute_input": "2024-12-10T22:19:34.802981Z",
     "iopub.status.busy": "2024-12-10T22:19:34.802523Z",
     "iopub.status.idle": "2024-12-10T22:19:36.534879Z",
     "shell.execute_reply": "2024-12-10T22:19:36.533711Z",
     "shell.execute_reply.started": "2024-12-10T22:19:34.802933Z"
    },
    "trusted": true
   },
   "outputs": [],
   "source": [
    "training_set = data[\"training_set\"]\n",
    "test_set = data[\"test_set\"]"
   ]
  },
  {
   "cell_type": "code",
   "execution_count": 20,
   "metadata": {
    "execution": {
     "iopub.execute_input": "2024-12-10T22:19:36.536781Z",
     "iopub.status.busy": "2024-12-10T22:19:36.536335Z",
     "iopub.status.idle": "2024-12-10T22:19:36.542753Z",
     "shell.execute_reply": "2024-12-10T22:19:36.541618Z",
     "shell.execute_reply.started": "2024-12-10T22:19:36.536705Z"
    },
    "trusted": true
   },
   "outputs": [
    {
     "name": "stdout",
     "output_type": "stream",
     "text": [
      "(2615, 2, 64, 128)\n",
      "(10022, 64, 128)\n"
     ]
    }
   ],
   "source": [
    "print(training_set.shape)\n",
    "print(test_set.shape)"
   ]
  },
  {
   "cell_type": "code",
   "execution_count": 21,
   "metadata": {
    "execution": {
     "iopub.execute_input": "2024-12-10T22:19:36.544812Z",
     "iopub.status.busy": "2024-12-10T22:19:36.544298Z",
     "iopub.status.idle": "2024-12-10T22:19:36.558108Z",
     "shell.execute_reply": "2024-12-10T22:19:36.557061Z",
     "shell.execute_reply.started": "2024-12-10T22:19:36.544726Z"
    },
    "trusted": true
   },
   "outputs": [
    {
     "name": "stdout",
     "output_type": "stream",
     "text": [
      "(2615, 64, 128)\n",
      "(2615, 64, 128)\n"
     ]
    }
   ],
   "source": [
    "#Separate images from masks\n",
    "images = training_set[:,0,:,:]\n",
    "masks = training_set[:,1,:,:]\n",
    "print(images.shape)\n",
    "print(masks.shape)"
   ]
  },
  {
   "cell_type": "markdown",
   "metadata": {},
   "source": [
    "# General View"
   ]
  },
  {
   "cell_type": "code",
   "execution_count": null,
   "metadata": {
    "execution": {
     "iopub.execute_input": "2024-12-10T22:19:36.559772Z",
     "iopub.status.busy": "2024-12-10T22:19:36.559430Z",
     "iopub.status.idle": "2024-12-10T22:19:40.520396Z",
     "shell.execute_reply": "2024-12-10T22:19:40.518924Z",
     "shell.execute_reply.started": "2024-12-10T22:19:36.559713Z"
    },
    "trusted": true
   },
   "outputs": [],
   "source": [
    "display_images(images[:100])"
   ]
  },
  {
   "cell_type": "markdown",
   "metadata": {},
   "source": [
    "# Spot Outliers"
   ]
  },
  {
   "cell_type": "code",
   "execution_count": 23,
   "metadata": {
    "execution": {
     "iopub.execute_input": "2024-12-10T22:19:40.524623Z",
     "iopub.status.busy": "2024-12-10T22:19:40.524166Z",
     "iopub.status.idle": "2024-12-10T22:19:40.774828Z",
     "shell.execute_reply": "2024-12-10T22:19:40.773785Z",
     "shell.execute_reply.started": "2024-12-10T22:19:40.524576Z"
    },
    "trusted": true
   },
   "outputs": [
    {
     "data": {
      "image/png": "[encoded data removed]",
      "text/plain": [
       "<Figure size 400x200 with 2 Axes>"
      ]
     },
     "metadata": {},
     "output_type": "display_data"
    },
    {
     "data": {
      "image/png": "[encoded data removed]",
      "text/plain": [
       "<Figure size 400x200 with 2 Axes>"
      ]
     },
     "metadata": {},
     "output_type": "display_data"
    }
   ],
   "source": [
    "#Outliers images\n",
    "display_images(images[62:64])\n",
    "display_images(images[79:81])"
   ]
  },
  {
   "cell_type": "code",
   "execution_count": 24,
   "metadata": {
    "execution": {
     "iopub.execute_input": "2024-12-10T22:19:40.776539Z",
     "iopub.status.busy": "2024-12-10T22:19:40.776111Z",
     "iopub.status.idle": "2024-12-10T22:19:41.014200Z",
     "shell.execute_reply": "2024-12-10T22:19:41.012829Z",
     "shell.execute_reply.started": "2024-12-10T22:19:40.776493Z"
    },
    "trusted": true
   },
   "outputs": [
    {
     "data": {
      "image/png": "[encoded data removed]",
      "text/plain": [
       "<Figure size 400x200 with 2 Axes>"
      ]
     },
     "metadata": {},
     "output_type": "display_data"
    },
    {
     "data": {
      "image/png": "[encoded data removed]",
      "text/plain": [
       "<Figure size 400x200 with 2 Axes>"
      ]
     },
     "metadata": {},
     "output_type": "display_data"
    }
   ],
   "source": [
    "#Outliers masks\n",
    "display_images(masks[62:64])\n",
    "display_images(masks[79:81])"
   ]
  },
  {
   "cell_type": "markdown",
   "metadata": {},
   "source": [
    "# Remove outliers"
   ]
  },
  {
   "cell_type": "code",
   "execution_count": 25,
   "metadata": {
    "execution": {
     "iopub.execute_input": "2024-12-10T22:19:41.016848Z",
     "iopub.status.busy": "2024-12-10T22:19:41.015965Z",
     "iopub.status.idle": "2024-12-10T22:19:41.079831Z",
     "shell.execute_reply": "2024-12-10T22:19:41.077825Z",
     "shell.execute_reply.started": "2024-12-10T22:19:41.016781Z"
    },
    "trusted": true
   },
   "outputs": [
    {
     "name": "stdout",
     "output_type": "stream",
     "text": [
      "Found 110\n"
     ]
    }
   ],
   "source": [
    "#Find the indices of the masks with the same outliers mask\n",
    "matches = np.array([np.array_equal(mask, masks[62]) for mask in masks])\n",
    "#Count how many of them we found\n",
    "count = np.sum(matches)\n",
    "print(f\"Found {count}\")"
   ]
  },
  {
   "cell_type": "code",
   "execution_count": 26,
   "metadata": {
    "execution": {
     "iopub.execute_input": "2024-12-10T22:19:41.082489Z",
     "iopub.status.busy": "2024-12-10T22:19:41.082012Z",
     "iopub.status.idle": "2024-12-10T22:19:41.207222Z",
     "shell.execute_reply": "2024-12-10T22:19:41.205987Z",
     "shell.execute_reply.started": "2024-12-10T22:19:41.082439Z"
    },
    "trusted": true
   },
   "outputs": [
    {
     "name": "stdout",
     "output_type": "stream",
     "text": [
      "(2615, 64, 128)\n",
      "(2505, 64, 128)\n"
     ]
    }
   ],
   "source": [
    "#Remove such indexes from images and masks\n",
    "clean_masks = masks[~matches]\n",
    "clean_images= images[~matches]\n",
    "\n",
    "#Print how many images remains\n",
    "print(masks.shape)\n",
    "print(clean_masks.shape)"
   ]
  },
  {
   "cell_type": "markdown",
   "metadata": {},
   "source": [
    "# Last global checks"
   ]
  },
  {
   "cell_type": "code",
   "execution_count": null,
   "metadata": {
    "collapsed": true,
    "execution": {
     "iopub.execute_input": "2024-12-10T22:19:41.209095Z",
     "iopub.status.busy": "2024-12-10T22:19:41.208631Z",
     "iopub.status.idle": "2024-12-10T22:20:01.005966Z",
     "shell.execute_reply": "2024-12-10T22:20:01.004456Z",
     "shell.execute_reply.started": "2024-12-10T22:19:41.209060Z"
    },
    "jupyter": {
     "outputs_hidden": true
    },
    "trusted": true
   },
   "outputs": [],
   "source": [
    "display_images(clean_images[0:500])"
   ]
  },
  {
   "cell_type": "code",
   "execution_count": null,
   "metadata": {
    "collapsed": true,
    "execution": {
     "iopub.execute_input": "2024-12-10T22:20:01.007993Z",
     "iopub.status.busy": "2024-12-10T22:20:01.007492Z",
     "iopub.status.idle": "2024-12-10T22:20:21.533112Z",
     "shell.execute_reply": "2024-12-10T22:20:21.531308Z",
     "shell.execute_reply.started": "2024-12-10T22:20:01.007940Z"
    },
    "jupyter": {
     "outputs_hidden": true
    },
    "trusted": true
   },
   "outputs": [],
   "source": [
    "display_images(clean_images[500:1000])"
   ]
  },
  {
   "cell_type": "code",
   "execution_count": null,
   "metadata": {
    "collapsed": true,
    "execution": {
     "iopub.execute_input": "2024-12-10T22:20:21.535435Z",
     "iopub.status.busy": "2024-12-10T22:20:21.534941Z",
     "iopub.status.idle": "2024-12-10T22:20:41.127725Z",
     "shell.execute_reply": "2024-12-10T22:20:41.126100Z",
     "shell.execute_reply.started": "2024-12-10T22:20:21.535379Z"
    },
    "jupyter": {
     "outputs_hidden": true
    },
    "trusted": true
   },
   "outputs": [],
   "source": [
    "display_images(clean_images[1000:1500])"
   ]
  },
  {
   "cell_type": "code",
   "execution_count": null,
   "metadata": {
    "collapsed": true,
    "execution": {
     "iopub.execute_input": "2024-12-10T22:20:41.130221Z",
     "iopub.status.busy": "2024-12-10T22:20:41.129697Z",
     "iopub.status.idle": "2024-12-10T22:21:00.876079Z",
     "shell.execute_reply": "2024-12-10T22:21:00.874144Z",
     "shell.execute_reply.started": "2024-12-10T22:20:41.130168Z"
    },
    "jupyter": {
     "outputs_hidden": true
    },
    "trusted": true
   },
   "outputs": [],
   "source": [
    "display_images(clean_images[1500:2000])"
   ]
  },
  {
   "cell_type": "code",
   "execution_count": null,
   "metadata": {
    "collapsed": true,
    "execution": {
     "iopub.execute_input": "2024-12-10T22:21:00.879126Z",
     "iopub.status.busy": "2024-12-10T22:21:00.878450Z",
     "iopub.status.idle": "2024-12-10T22:21:20.820197Z",
     "shell.execute_reply": "2024-12-10T22:21:20.818395Z",
     "shell.execute_reply.started": "2024-12-10T22:21:00.879054Z"
    },
    "jupyter": {
     "outputs_hidden": true
    },
    "trusted": true
   },
   "outputs": [],
   "source": [
    "display_images(clean_images[2000:])"
   ]
  },
  {
   "cell_type": "markdown",
   "metadata": {},
   "source": [
    "# Plot some Test set images"
   ]
  },
  {
   "cell_type": "code",
   "execution_count": null,
   "metadata": {
    "collapsed": true,
    "execution": {
     "iopub.execute_input": "2024-12-10T22:21:20.823070Z",
     "iopub.status.busy": "2024-12-10T22:21:20.822442Z",
     "iopub.status.idle": "2024-12-10T22:21:26.404414Z",
     "shell.execute_reply": "2024-12-10T22:21:26.402824Z",
     "shell.execute_reply.started": "2024-12-10T22:21:20.822999Z"
    },
    "jupyter": {
     "outputs_hidden": true
    },
    "trusted": true
   },
   "outputs": [],
   "source": [
    "display_images(test_set[419:540])"
   ]
  },
  {
   "cell_type": "markdown",
   "metadata": {},
   "source": [
    "# Save the cleaned dataset"
   ]
  },
  {
   "cell_type": "code",
   "execution_count": 33,
   "metadata": {
    "execution": {
     "iopub.execute_input": "2024-12-10T22:21:26.406855Z",
     "iopub.status.busy": "2024-12-10T22:21:26.406378Z",
     "iopub.status.idle": "2024-12-10T22:21:42.460585Z",
     "shell.execute_reply": "2024-12-10T22:21:42.459364Z",
     "shell.execute_reply.started": "2024-12-10T22:21:26.406805Z"
    },
    "trusted": true
   },
   "outputs": [],
   "source": [
    "np.savez_compressed('mars_for_students_cleaned_compressed.npz', \n",
    "                    images=clean_images, \n",
    "                    labels=clean_masks, \n",
    "                    test_set=test_set)"
   ]
  }
 ],
 "metadata": {
  "kaggle": {
   "accelerator": "none",
   "dataSources": [
    {
     "datasetId": 6244739,
     "sourceId": 10120499,
     "sourceType": "datasetVersion"
    }
   ],
   "dockerImageVersionId": 30804,
   "isGpuEnabled": false,
   "isInternetEnabled": true,
   "language": "python",
   "sourceType": "notebook"
  },
  "kernelspec": {
   "display_name": "Python 3",
   "language": "python",
   "name": "python3"
  },
  "language_info": {
   "codemirror_mode": {
    "name": "ipython",
    "version": 3
   },
   "file_extension": ".py",
   "mimetype": "text/x-python",
   "name": "python",
   "nbconvert_exporter": "python",
   "pygments_lexer": "ipython3",
   "version": "3.10.14"
  }
 },
 "nbformat": 4,
 "nbformat_minor": 4
}
